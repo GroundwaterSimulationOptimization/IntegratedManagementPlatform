{
 "cells": [
  {
   "cell_type": "code",
   "execution_count": 1,
   "metadata": {},
   "outputs": [],
   "source": [
    "from pymoo.algorithms.moo.nsga2 import NSGA2\n",
    "from pymoo.problems import get_problem\n",
    "from pymoo.optimize import minimize\n",
    "from pymoo.visualization.scatter import Scatter\n",
    "\n",
    "import matplotlib.pyplot as plt\n",
    "\n"
   ]
  },
  {
   "cell_type": "code",
   "execution_count": 2,
   "metadata": {},
   "outputs": [
    {
     "name": "stdout",
     "output_type": "stream",
     "text": [
      "[[30. 30. 30. 30. 30. 30. 30. 30. 30. 30. 30.]\n",
      " [30. 30. 30. 30. 30. 30. 30. 30. 30. 30. 30.]\n",
      " [30. 30. 30. 30. 30. 30. 30. 30. 30. 30. 30.]\n",
      " [30. 30. 30. 30. 30. 30. 30. 30. 30. 30. 30.]\n",
      " [30. 30. 30. 30. 30. 30. 30. 30. 30. 30. 30.]\n",
      " [30. 30. 30. 30. 30. 30. 30. 30. 30. 30. 30.]\n",
      " [30. 30. 30. 30. 30. 30. 30. 30. 30. 30. 30.]\n",
      " [30. 30. 30. 30. 30. 30. 30. 30. 30. 30. 30.]\n",
      " [30. 30. 30. 30. 30. 30. 30. 30. 30. 30. 30.]\n",
      " [30. 30. 30. 30. 30. 30. 30. 30. 30. 30. 30.]\n",
      " [30. 30. 30. 30. 30. 30. 30. 30. 30. 30. 30.]]\n"
     ]
    },
    {
     "data": {
      "image/png": "[encoded data removed]",
      "text/plain": [
       "<Figure size 640x480 with 2 Axes>"
      ]
     },
     "metadata": {},
     "output_type": "display_data"
    }
   ],
   "source": [
    "def IdealModel1(wel: list = [0.0, 0.0, 0.0]) -> list:\n",
    "    import os\n",
    "    import numpy as np\n",
    "    import pandas as pd\n",
    "    import flopy\n",
    "    from tempfile import TemporaryDirectory\n",
    "\n",
    "    # filename\n",
    "    temp_dir = TemporaryDirectory()\n",
    "    sim_ws = os.path.join(temp_dir.name)\n",
    "    sim_name = \"IdealModel1\"\n",
    "    gwfname = \"gwf_\" + sim_name\n",
    "    gwtname = \"gwt_\" + sim_name\n",
    "\n",
    "    # units\n",
    "    length_units = \"meters\"\n",
    "    time_units = \"days\"\n",
    "\n",
    "    # Discretization\n",
    "    nper = 1\n",
    "    nlay = 1\n",
    "    nrow = 11\n",
    "    ncol = 11\n",
    "    delr = 1000\n",
    "    delc = 1000\n",
    "    top = 30\n",
    "    botm = -10\n",
    "    idomain = 1\n",
    "\n",
    "    # GWF\n",
    "    icelltype = 1  # 潜水含水层\n",
    "\n",
    "    k11 = np.full([11, 11], 90)  # 渗透系数\n",
    "    k11[:4, :6] = 150\n",
    "    k11[8:, :] = 60\n",
    "    k11[5:8, 9:] = 60\n",
    "\n",
    "    # Temporal discretization\n",
    "    perlen = 1000.0\n",
    "    nstp = 1\n",
    "    tsmult = 1.0\n",
    "    tdis_ds = []\n",
    "    tdis_ds.append((perlen, nstp, tsmult))\n",
    "\n",
    "    # Solver parameters\n",
    "    nouter, ninner = 100, 300\n",
    "    hclose, rclose, relax = 1e-6, 1e-6, 1.0\n",
    "\n",
    "    # Initial conditions\n",
    "    # Starting Heads\n",
    "    strt = np.full([11, 11], 30, dtype=float)\n",
    "\n",
    "    # Boundary conditions\n",
    "    # wel_spd\n",
    "\n",
    "    wel_spd = [[0, 2, 3, -wel[0]], [0, 5, 4, -wel[1]], [0, 6, 10, -wel[2]]]\n",
    "    wel_spd = {0: wel_spd}\n",
    "\n",
    "    # chd_spd\n",
    "    chd_spd = []\n",
    "    for i in np.arange(ncol):\n",
    "        chd_spd.append([0, 10, i, 30.0])\n",
    "\n",
    "    sim = flopy.mf6.MFSimulation(sim_name=sim_name, sim_ws=sim_ws, exe_name=\"mf6\")\n",
    "\n",
    "    flopy.mf6.ModflowTdis(sim, nper=nper, perioddata=tdis_ds, time_units=time_units)\n",
    "\n",
    "    gwf = flopy.mf6.ModflowGwf(\n",
    "        sim,\n",
    "        modelname=gwfname,\n",
    "        save_flows=True,\n",
    "        model_nam_file=\"{}.nam\".format(gwfname),\n",
    "    )\n",
    "\n",
    "    ims = flopy.mf6.ModflowIms(\n",
    "        sim,\n",
    "        print_option=\"SUMMARY\",\n",
    "        outer_dvclose=hclose,\n",
    "        outer_maximum=nouter,\n",
    "        under_relaxation=\"NONE\",\n",
    "        inner_maximum=ninner,\n",
    "        inner_dvclose=hclose,\n",
    "        rcloserecord=rclose,\n",
    "        linear_acceleration=\"CG\",\n",
    "        scaling_method=\"NONE\",\n",
    "        reordering_method=\"NONE\",\n",
    "        relaxation_factor=relax,\n",
    "        filename=\"{}.ims\".format(gwfname),\n",
    "    )\n",
    "    sim.register_ims_package(ims, [gwf.name])\n",
    "\n",
    "    flopy.mf6.ModflowGwfdis(\n",
    "        gwf,\n",
    "        length_units=length_units,\n",
    "        nlay=nlay,\n",
    "        nrow=nrow,\n",
    "        ncol=ncol,\n",
    "        delr=delr,\n",
    "        delc=delc,\n",
    "        top=top,\n",
    "        botm=botm,\n",
    "        idomain=idomain,\n",
    "        filename=\"{}.dis\".format(gwfname),\n",
    "    )\n",
    "\n",
    "    flopy.mf6.ModflowGwfnpf(\n",
    "        gwf,\n",
    "        save_flows=False,\n",
    "        icelltype=icelltype,\n",
    "        k=k11,\n",
    "        k33=k11,\n",
    "        save_specific_discharge=True,\n",
    "        filename=\"{}.npf\".format(gwfname),\n",
    "    )\n",
    "\n",
    "    flopy.mf6.ModflowGwfic(gwf, strt=strt, filename=\"{}.ic\".format(gwfname))\n",
    "\n",
    "    flopy.mf6.ModflowGwfchd(\n",
    "        gwf,\n",
    "        maxbound=len(chd_spd),\n",
    "        stress_period_data=chd_spd,\n",
    "        save_flows=False,\n",
    "        pname=\"CHD-1\",\n",
    "        filename=\"{}.chd\".format(gwfname),\n",
    "    )\n",
    "\n",
    "    flopy.mf6.ModflowGwfwel(\n",
    "        gwf,\n",
    "        print_input=True,\n",
    "        print_flows=True,\n",
    "        stress_period_data=wel_spd,\n",
    "        save_flows=True,\n",
    "        pname=\"WEL-1\",\n",
    "        filename=\"{}.wel\".format(gwfname),\n",
    "    )\n",
    "\n",
    "    flopy.mf6.ModflowGwfoc(\n",
    "        gwf,\n",
    "        head_filerecord=\"{}.hds\".format(gwfname),\n",
    "        budget_filerecord=\"{}.bud\".format(gwfname),\n",
    "        saverecord=[(\"HEAD\", \"ALL\"), (\"BUDGET\", \"ALL\")],\n",
    "        printrecord=[(\"HEAD\", \"ALL\"), (\"BUDGET\", \"ALL\")],\n",
    "    )\n",
    "\n",
    "    sim.write_simulation(silent=True)\n",
    "    success, buff = sim.run_simulation(silent=True)\n",
    "    if not success:\n",
    "        raise Exception(\"MODFLOW 6 did not terminate normally.\")\n",
    "\n",
    "    head = gwf.oc.output.head().get_alldata()[0, 0]\n",
    "\n",
    "    return head\n",
    "\n",
    "\n",
    "import matplotlib.pyplot as plt\n",
    "import numpy as np\n",
    "\n",
    "# test = np.array([10000, 10000, 10000])\n",
    "# res = IdealModel1(test)\n",
    "res = IdealModel1()\n",
    "print(res)\n",
    "plt.imshow(res)\n",
    "plt.colorbar()\n",
    "plt.show()"
   ]
  },
  {
   "cell_type": "code",
   "execution_count": 3,
   "metadata": {},
   "outputs": [
    {
     "name": "stdout",
     "output_type": "stream",
     "text": [
      "==========================================================================================\n",
      "n_gen  |  n_eval  | n_nds  |     cv_min    |     cv_avg    |      eps      |   indicator  \n",
      "==========================================================================================\n",
      "     1 |       40 |      5 |  0.000000E+00 |  7.968435E+03 |             - |             -\n",
      "     2 |       50 |      6 |  0.000000E+00 |  5.461026E+03 |  0.0242178415 |             f\n",
      "     3 |       60 |     10 |  0.000000E+00 |  3.259354E+03 |  0.0789636353 |         ideal\n",
      "     4 |       70 |     12 |  0.000000E+00 |  1.884628E+03 |  0.3394884697 |         ideal\n",
      "     5 |       80 |     15 |  0.000000E+00 |  7.243419E+02 |  0.0710162272 |         ideal\n",
      "     6 |       90 |     19 |  0.000000E+00 |  1.338767E+02 |  0.0166730069 |             f\n",
      "     7 |      100 |     20 |  0.000000E+00 |  2.7966569120 |  0.0172729168 |         ideal\n",
      "     8 |      110 |     23 |  0.000000E+00 |  0.000000E+00 |  0.0088190958 |             f\n",
      "     9 |      120 |     27 |  0.000000E+00 |  0.000000E+00 |  0.0067844256 |         ideal\n",
      "    10 |      130 |     30 |  0.000000E+00 |  0.000000E+00 |  0.0133231308 |         ideal\n"
     ]
    }
   ],
   "source": [
    "from pymoo.algorithms.moo.nsga2 import NSGA2\n",
    "from pymoo.algorithms.moo.nsga3 import NSGA3\n",
    "\n",
    "from pymoo.core.problem import ElementwiseProblem\n",
    "\n",
    "from pymoo.optimize import minimize\n",
    "\n",
    "from pymoo.operators.crossover.sbx import SBX\n",
    "\n",
    "from pymoo.operators.sampling.rnd import FloatRandomSampling\n",
    "\n",
    "from pymoo.operators.mutation.pm import PolynomialMutation\n",
    "\n",
    "from pymoo.visualization.scatter import Scatter\n",
    "\n",
    "\n",
    "import matplotlib.pyplot as plt\n",
    "\n",
    "import numpy as np\n",
    "\n",
    "\n",
    "\n",
    "class gwProblem_IdealModel1(ElementwiseProblem):\n",
    "\n",
    "    def __init__(self):\n",
    "\n",
    "        super().__init__(\n",
    "\n",
    "            n_var=3,  # 变量数，三口井抽水量\n",
    "\n",
    "            n_obj=2,  # 目标数，最大化抽水总量和最小化网格水位降深\n",
    "\n",
    "            n_constr=4,  # 约束条件数 每口井最少抽水 0 最多抽水 15000 三口井抽水总量不得低于 30000 每个网格最大降深不能超过 12m。\n",
    "\n",
    "            xl=np.array([0.0, 0.0, 0.0]),  # 下界\n",
    "\n",
    "            xu=np.array([15000.0, 15000.0, 15000.0]),  # 上界\n",
    "        )\n",
    "\n",
    "\n",
    "    def _evaluate(self, x, out, *args, **kwargs):\n",
    "\n",
    "        head = IdealModel1(x)\n",
    "\n",
    "\n",
    "        f1 = -x.sum()  # 抽水总量，改求最小值\n",
    "\n",
    "        f2 = (30.0 - head).mean()  # 平均水位降深\n",
    "\n",
    "\n",
    "        # 转成求 <= 0\n",
    "\n",
    "        g1 = 30000.0 - x.sum()\n",
    "\n",
    "        g2 = (30.0 - head[2, 3]) - 12.0\n",
    "\n",
    "        g3 = (30.0 - head[5, 4]) - 12.0\n",
    "\n",
    "        g4 = (30.0 - head[6, 10]) - 12.0\n",
    "\n",
    "\n",
    "        out[\"F\"] = [f1, f2]  # 目标，转成求最小值\n",
    "\n",
    "        out[\"G\"] = [g1, g2, g3, g4]\n",
    "\n",
    "\n",
    "    def IdealModel1(wel: list = [0.0, 0.0, 0.0]):\n",
    "        import os\n",
    "\n",
    "        import numpy as np\n",
    "        import pandas as pd\n",
    "\n",
    "        import flopy\n",
    "\n",
    "        from tempfile import TemporaryDirectory\n",
    "\n",
    "\n",
    "        # filename\n",
    "\n",
    "        temp_dir = TemporaryDirectory()\n",
    "\n",
    "        sim_ws = os.path.join(temp_dir.name)\n",
    "\n",
    "        sim_name = \"IdealModel1\"\n",
    "\n",
    "        gwfname = \"gwf_\" + sim_name\n",
    "\n",
    "\n",
    "        # units\n",
    "\n",
    "        length_units = \"meters\"\n",
    "\n",
    "        time_units = \"days\"\n",
    "\n",
    "\n",
    "        # Discretization\n",
    "        nper = 1\n",
    "\n",
    "        nlay = 1\n",
    "        nrow = 11\n",
    "        ncol = 11\n",
    "        delr = 1000\n",
    "        delc = 1000\n",
    "\n",
    "        top = 30\n",
    "\n",
    "        botm = -10\n",
    "        idomain = 1\n",
    "\n",
    "\n",
    "        # GWF\n",
    "\n",
    "        icelltype = 1  # 潜水含水层\n",
    "\n",
    "\n",
    "        k11 = np.full([11, 11], 90)  # 渗透系数\n",
    "\n",
    "        k11[:4, :6] = 150\n",
    "\n",
    "        k11[8:, :] = 60\n",
    "\n",
    "        k11[5:8, 9:] = 60\n",
    "\n",
    "\n",
    "        # Temporal discretization\n",
    "        perlen = 1000.0\n",
    "        nstp = 1\n",
    "\n",
    "        tsmult = 1.0\n",
    "\n",
    "        tdis_ds = []\n",
    "\n",
    "        tdis_ds.append((perlen, nstp, tsmult))\n",
    "\n",
    "\n",
    "        # Solver parameters\n",
    "\n",
    "        nouter, ninner = 100, 300\n",
    "\n",
    "        hclose, rclose, relax = 1e-6, 1e-6, 1.0\n",
    "\n",
    "\n",
    "        # Initial conditions\n",
    "\n",
    "        # Starting Heads\n",
    "\n",
    "        strt = np.full([11, 11], 30, dtype=float)\n",
    "\n",
    "\n",
    "        # Boundary conditions\n",
    "\n",
    "        # wel_spd\n",
    "        \n",
    "\n",
    "        wel_spd = [[0, 2, 3, -wel[0]], [0, 5, 4, -wel[1]], [0, 6, 10, -wel[2]]]\n",
    "\n",
    "        wel_spd = {0: wel_spd}\n",
    "\n",
    "\n",
    "        # chd_spd\n",
    "\n",
    "        chd_spd = []\n",
    "\n",
    "        for i in np.arange(ncol):\n",
    "\n",
    "            chd_spd.append([0, 10, i, 30.0])\n",
    "\n",
    "\n",
    "        sim = flopy.mf6.MFSimulation(sim_name=sim_name, sim_ws=sim_ws, exe_name=\"mf6\")\n",
    "\n",
    "\n",
    "        flopy.mf6.ModflowTdis(sim, nper=nper, perioddata=tdis_ds, time_units=time_units)\n",
    "\n",
    "\n",
    "        gwf = flopy.mf6.ModflowGwf(\n",
    "            sim,\n",
    "\n",
    "            modelname=gwfname,\n",
    "\n",
    "            save_flows=True,\n",
    "\n",
    "            model_nam_file=\"{}.nam\".format(gwfname),\n",
    "        )\n",
    "\n",
    "\n",
    "        ims = flopy.mf6.ModflowIms(\n",
    "            sim,\n",
    "\n",
    "            print_option=\"SUMMARY\",\n",
    "\n",
    "            outer_dvclose=hclose,\n",
    "\n",
    "            outer_maximum=nouter,\n",
    "\n",
    "            under_relaxation=\"NONE\",\n",
    "\n",
    "            inner_maximum=ninner,\n",
    "\n",
    "            inner_dvclose=hclose,\n",
    "            rcloserecord=rclose,\n",
    "\n",
    "            linear_acceleration=\"CG\",\n",
    "\n",
    "            scaling_method=\"NONE\",\n",
    "\n",
    "            reordering_method=\"NONE\",\n",
    "\n",
    "            relaxation_factor=relax,\n",
    "\n",
    "            filename=\"{}.ims\".format(gwfname),\n",
    "        )\n",
    "\n",
    "        sim.register_ims_package(ims, [gwf.name])\n",
    "\n",
    "\n",
    "        flopy.mf6.ModflowGwfdis(\n",
    "\n",
    "            gwf,\n",
    "\n",
    "            length_units=length_units,\n",
    "\n",
    "            nlay=nlay,\n",
    "            nrow=nrow,\n",
    "            ncol=ncol,\n",
    "            delr=delr,\n",
    "            delc=delc,\n",
    "            top=top,\n",
    "\n",
    "            botm=botm,\n",
    "            idomain=idomain,\n",
    "\n",
    "            filename=\"{}.dis\".format(gwfname),\n",
    "        )\n",
    "\n",
    "\n",
    "        flopy.mf6.ModflowGwfnpf(\n",
    "\n",
    "            gwf,\n",
    "\n",
    "            save_flows=False,\n",
    "\n",
    "            icelltype=icelltype,\n",
    "\n",
    "            k=k11,\n",
    "\n",
    "            k33=k11,\n",
    "\n",
    "            save_specific_discharge=True,\n",
    "\n",
    "            filename=\"{}.npf\".format(gwfname),\n",
    "        )\n",
    "\n",
    "\n",
    "        flopy.mf6.ModflowGwfic(gwf, strt=strt, filename=\"{}.ic\".format(gwfname))\n",
    "\n",
    "\n",
    "        flopy.mf6.ModflowGwfchd(\n",
    "\n",
    "            gwf,\n",
    "\n",
    "            maxbound=len(chd_spd),\n",
    "\n",
    "            stress_period_data=chd_spd,\n",
    "\n",
    "            save_flows=False,\n",
    "\n",
    "            pname=\"CHD-1\",\n",
    "\n",
    "            filename=\"{}.chd\".format(gwfname),\n",
    "        )\n",
    "\n",
    "\n",
    "        flopy.mf6.ModflowGwfwel(\n",
    "\n",
    "            gwf,\n",
    "\n",
    "            print_input=True,\n",
    "\n",
    "            print_flows=True,\n",
    "            stress_period_data=wel_spd,\n",
    "\n",
    "            save_flows=True,\n",
    "\n",
    "            pname=\"WEL-1\",\n",
    "\n",
    "            filename=\"{}.wel\".format(gwfname),\n",
    "        )\n",
    "\n",
    "\n",
    "        flopy.mf6.ModflowGwfoc(\n",
    "\n",
    "            gwf,\n",
    "\n",
    "            head_filerecord=\"{}.hds\".format(gwfname),\n",
    "\n",
    "            budget_filerecord=\"{}.bud\".format(gwfname),\n",
    "\n",
    "            saverecord=[(\"HEAD\", \"ALL\"), (\"BUDGET\", \"ALL\")],\n",
    "\n",
    "            printrecord=[(\"HEAD\", \"ALL\"), (\"BUDGET\", \"ALL\")],\n",
    "        )\n",
    "\n",
    "\n",
    "        sim.write_simulation(silent=True)\n",
    "\n",
    "        success, buff = sim.run_simulation(silent=True)\n",
    "\n",
    "        if not success:\n",
    "\n",
    "            raise Exception(\"MODFLOW 6 did not terminate normally.\")\n",
    "\n",
    "\n",
    "        head = gwf.oc.output.head().get_alldata()[0, 0]\n",
    "\n",
    "\n",
    "        return head\n",
    "\n",
    "\n",
    "\n",
    "gwProblem = gwProblem_IdealModel1()\n",
    "\n",
    "\n",
    "algorithm = NSGA2(\n",
    "\n",
    "    pop_size=40,\n",
    "\n",
    "    n_offsprings=10,\n",
    "\n",
    "    sampling=FloatRandomSampling(),\n",
    "\n",
    "    crossover=SBX(),\n",
    "\n",
    "    mutation=PolynomialMutation(eta=20),\n",
    "\n",
    "    # survival=,\n",
    "\n",
    "    eliminate_duplicates=True,\n",
    ")\n",
    "\n",
    "\n",
    "res = minimize(\n",
    "\n",
    "    gwProblem,\n",
    "\n",
    "    algorithm,\n",
    "\n",
    "    termination=(\"n_gen\", 10),\n",
    "    seed=1,\n",
    "\n",
    "    save_history=True,\n",
    "\n",
    "    verbose=True,  # Boolean value 打印输出\n",
    ")\n",
    "\n",
    "\n",
    "X = res.X  # 变量\n",
    "\n",
    "F = res.F  # 目标\n",
    "\n",
    "\n",
    "\n",
    "# plot = Scatter()\n",
    "\n",
    "# plot.add(problem.pareto_front(), plot_type=\"line\", color=\"black\", alpha=0.7)\n",
    "\n",
    "# plot.add(res.F, facecolor=\"none\", edgecolor=\"red\")\n",
    "\n",
    "# plot.show()"
   ]
  },
  {
   "cell_type": "code",
   "execution_count": 8,
   "metadata": {},
   "outputs": [
    {
     "name": "stdout",
     "output_type": "stream",
     "text": [
      "(30, 3)\n",
      "(30, 2)\n",
      "[[ 9956.9196783   7723.33668087 14168.92133986]\n",
      " [11262.18154704 10889.96978026 13249.59136809]\n",
      " [13289.13148966  5359.04640004 13628.0272638 ]\n",
      " [ 9422.94617597 13628.9325464  14121.09649598]\n",
      " [ 9422.94617597 13425.21773036 13627.77883677]\n",
      " [10226.90969501  7723.33668087 14168.92133986]\n",
      " [11624.69972804 10791.13027825 13249.59136809]\n",
      " [13319.75420883 14052.76952824 13628.0272638 ]\n",
      " [10226.90969501  7723.33668087 14190.18199805]\n",
      " [10234.14711534 11577.01847118 13249.59136809]\n",
      " [13475.64994367 14166.29515821 14190.18199805]\n",
      " [10232.26196489 11777.60604013 13249.59136809]\n",
      " [10338.81007501 14080.8906641  12198.56373348]\n",
      " [ 9414.95061492 10791.13027825 13871.16809382]\n",
      " [13680.99611378 14834.3849607  13522.56108991]\n",
      " [11632.69528908 13628.9325464  14210.04777611]\n",
      " [14130.93914481 13275.40169375 12569.50383359]\n",
      " [13089.18931876 14191.63909763 14203.25076414]\n",
      " [13319.75420883 13659.39885383 13634.90517638]\n",
      " [ 9956.9196783   7650.33096344 14337.34110171]\n",
      " [13680.99611378 14840.51738013 13597.82054309]\n",
      " [14366.09187428 12735.41056253 12569.50383359]\n",
      " [ 9422.94617597 13701.52483856 14618.57302856]\n",
      " [11823.43978143 13628.9325464  13105.32817705]\n",
      " [12678.71584605  7614.5532     14172.7901193 ]\n",
      " [ 9422.94617597  9706.69641646 14121.09649598]\n",
      " [12554.90478744  5127.99281612 12774.88748357]\n",
      " [13680.99611378 14638.65837592 13597.82054309]\n",
      " [11600.72824342 13256.1781543  13865.93789622]\n",
      " [10217.23494201 13701.52483856 14618.57302856]]\n",
      "[[-3.18491777e+04  4.15197543e+00]\n",
      " [-3.54017427e+04  4.70113227e+00]\n",
      " [-3.22762052e+04  4.31555189e+00]\n",
      " [-3.71729752e+04  4.88358051e+00]\n",
      " [-3.64759427e+04  4.79295147e+00]\n",
      " [-3.21191677e+04  4.19706114e+00]\n",
      " [-3.56654214e+04  4.74899227e+00]\n",
      " [-4.10005510e+04  5.55918254e+00]\n",
      " [-3.21404284e+04  4.19966374e+00]\n",
      " [-3.50607570e+04  4.62310488e+00]\n",
      " [-4.18321271e+04  5.67567510e+00]\n",
      " [-3.52594594e+04  4.65103266e+00]\n",
      " [-3.66182645e+04  4.86404301e+00]\n",
      " [-3.40772490e+04  4.45114384e+00]\n",
      " [-4.20379422e+04  5.72382090e+00]\n",
      " [-3.94716756e+04  5.27659011e+00]\n",
      " [-3.99758447e+04  5.45305347e+00]\n",
      " [-4.14840792e+04  5.61276057e+00]\n",
      " [-4.06140582e+04  5.50275518e+00]\n",
      " [-3.19445917e+04  4.16246370e+00]\n",
      " [-4.21193340e+04  5.73444713e+00]\n",
      " [-3.96710063e+04  5.41589947e+00]\n",
      " [-3.77430440e+04  4.95636635e+00]\n",
      " [-3.85577005e+04  5.16959472e+00]\n",
      " [-3.44660592e+04  4.59530550e+00]\n",
      " [-3.32507391e+04  4.33197141e+00]\n",
      " [-3.04577851e+04  4.05641263e+00]\n",
      " [-4.19174750e+04  5.70482110e+00]\n",
      " [-3.87228443e+04  5.17370367e+00]\n",
      " [-3.85373328e+04  5.09325984e+00]]\n"
     ]
    }
   ],
   "source": [
    "print(X.shape)  # 变量 (40, 3) #三口井抽水量\n",
    "print(F.shape)  # 目标 (40, 2) # 目标数，最大化抽水总量和最小化网格水位降深\n",
    "# print(X[0])\n",
    "\n",
    "# print(np.array(-F[:,0]).reshape(1,40))\n",
    "# print(np.array(F[:,1]).reshape(1,40))\n",
    "# print(-F[:, 0])\n",
    "y_data = F[:, 1].tolist()\n",
    "# for y in F[:, 1]:\n",
    "#     y_data.append(y)\n",
    "# print(y_data)\n",
    "# new_y = [list(z) for z in zip(F[:, 1],X)]\n",
    "# print(new_y)\n",
    "x= -F[:, 0]\n",
    "x_data = x.tolist()\n",
    "#print(x_data)\n",
    "#print(X)\n",
    "#print(X[:,0])\n",
    "import pandas as pd\n",
    "df_F = pd.DataFrame(F,columns = [\"Target1\",\"Target2\"])\n",
    "df_X = pd.DataFrame(X,columns=[\"well_1\",\"well_2\",\"well_3\"])\n",
    "#print(df_F)\n",
    "dataset = pd.concat([df_F,df_X],axis=1)\n",
    "print(X)\n",
    "#dataset.to_csv(\"df.csv\",index=None)\n",
    "print(F)\n"
   ]
  },
  {
   "cell_type": "code",
   "execution_count": 5,
   "metadata": {},
   "outputs": [
    {
     "data": {
      "text/html": [
       "\n",
       "<script>\n",
       "    require.config({\n",
       "        paths: {\n",
       "            'echarts':'https://assets.pyecharts.org/assets/v5/echarts.min'\n",
       "        }\n",
       "    });\n",
       "</script>\n",
       "\n",
       "        <div id=\"5074864dea81447594795e9841001eb1\" style=\"width:900px; height:600px ;\"></div>\n",
       "\n",
       "<script>\n",
       "        require(['echarts'], function(echarts) {\n",
       "                var chart_5074864dea81447594795e9841001eb1 = echarts.init(\n",
       "                    document.getElementById('5074864dea81447594795e9841001eb1'), 'white', {renderer: 'canvas'});\n",
       "                var option_5074864dea81447594795e9841001eb1 = {\n",
       "    \"animation\": true,\n",
       "    \"animationThreshold\": 2000,\n",
       "    \"animationDuration\": 1000,\n",
       "    \"animationEasing\": \"cubicOut\",\n",
       "    \"animationDelay\": 0,\n",
       "    \"animationDurationUpdate\": 300,\n",
       "    \"animationEasingUpdate\": \"cubicOut\",\n",
       "    \"animationDelayUpdate\": 0,\n",
       "    \"aria\": {\n",
       "        \"enabled\": false\n",
       "    },\n",
       "    \"color\": [\n",
       "        \"#5470c6\",\n",
       "        \"#91cc75\",\n",
       "        \"#fac858\",\n",
       "        \"#ee6666\",\n",
       "        \"#73c0de\",\n",
       "        \"#3ba272\",\n",
       "        \"#fc8452\",\n",
       "        \"#9a60b4\",\n",
       "        \"#ea7ccc\"\n",
       "    ],\n",
       "    \"series\": [\n",
       "        {\n",
       "            \"type\": \"scatter\",\n",
       "            \"symbolSize\": 10,\n",
       "            \"data\": [\n",
       "                [\n",
       "                    31849.17769903366,\n",
       "                    4.151975429035518\n",
       "                ],\n",
       "                [\n",
       "                    35401.74269538625,\n",
       "                    4.701132267807325\n",
       "                ],\n",
       "                [\n",
       "                    32276.2051534961,\n",
       "                    4.315551893243595\n",
       "                ],\n",
       "                [\n",
       "                    37172.97521835126,\n",
       "                    4.883580506309892\n",
       "                ],\n",
       "                [\n",
       "                    36475.94274310251,\n",
       "                    4.792951473267421\n",
       "                ],\n",
       "                [\n",
       "                    32119.167715750154,\n",
       "                    4.1970611382731065\n",
       "                ],\n",
       "                [\n",
       "                    35665.42137438559,\n",
       "                    4.748992266778558\n",
       "                ],\n",
       "                [\n",
       "                    41000.551000860185,\n",
       "                    5.559182544006363\n",
       "                ],\n",
       "                [\n",
       "                    32140.428373941864,\n",
       "                    4.199663738181117\n",
       "                ],\n",
       "                [\n",
       "                    35060.75695460891,\n",
       "                    4.623104883563831\n",
       "                ],\n",
       "                [\n",
       "                    41832.12709994143,\n",
       "                    5.6756751041190405\n",
       "                ],\n",
       "                [\n",
       "                    35259.45937310516,\n",
       "                    4.651032657733756\n",
       "                ],\n",
       "                [\n",
       "                    36618.26447258263,\n",
       "                    4.864043013074356\n",
       "                ],\n",
       "                [\n",
       "                    34077.248987001185,\n",
       "                    4.4511438420795235\n",
       "                ],\n",
       "                [\n",
       "                    42037.94216439119,\n",
       "                    5.723820897909387\n",
       "                ],\n",
       "                [\n",
       "                    39471.67561159271,\n",
       "                    5.276590112000662\n",
       "                ],\n",
       "                [\n",
       "                    39975.8446721539,\n",
       "                    5.453053472619046\n",
       "                ],\n",
       "                [\n",
       "                    41484.07918052395,\n",
       "                    5.612760573980278\n",
       "                ],\n",
       "                [\n",
       "                    40614.058239038255,\n",
       "                    5.5027551829399926\n",
       "                ],\n",
       "                [\n",
       "                    31944.591743442877,\n",
       "                    4.162463701384348\n",
       "                ],\n",
       "                [\n",
       "                    42119.33403700651,\n",
       "                    5.734447131390747\n",
       "                ],\n",
       "                [\n",
       "                    39671.00627040668,\n",
       "                    5.415899469203409\n",
       "                ],\n",
       "                [\n",
       "                    37743.044043094895,\n",
       "                    4.956366346962795\n",
       "                ],\n",
       "                [\n",
       "                    38557.70050487913,\n",
       "                    5.169594718375362\n",
       "                ],\n",
       "                [\n",
       "                    34466.05916535108,\n",
       "                    4.595305504176357\n",
       "                ],\n",
       "                [\n",
       "                    33250.73908841339,\n",
       "                    4.331971406292317\n",
       "                ],\n",
       "                [\n",
       "                    30457.785087123386,\n",
       "                    4.056412627880577\n",
       "                ],\n",
       "                [\n",
       "                    41917.47503279958,\n",
       "                    5.704821098244626\n",
       "                ],\n",
       "                [\n",
       "                    38722.84429394138,\n",
       "                    5.173703674111452\n",
       "                ],\n",
       "                [\n",
       "                    38537.33280912917,\n",
       "                    5.0932598362401\n",
       "                ]\n",
       "            ],\n",
       "            \"label\": {\n",
       "                \"show\": false,\n",
       "                \"margin\": 8\n",
       "            },\n",
       "            \"markPoint\": {\n",
       "                \"label\": {\n",
       "                    \"show\": true,\n",
       "                    \"position\": \"inside\",\n",
       "                    \"color\": \"#fff\",\n",
       "                    \"margin\": 8\n",
       "                },\n",
       "                \"data\": [\n",
       "                    {\n",
       "                        \"name\": \"\\u6700\\u4f18\",\n",
       "                        \"type\": \"max\"\n",
       "                    }\n",
       "                ]\n",
       "            },\n",
       "            \"rippleEffect\": {\n",
       "                \"show\": true,\n",
       "                \"brushType\": \"stroke\",\n",
       "                \"scale\": 2.5,\n",
       "                \"period\": 4\n",
       "            }\n",
       "        }\n",
       "    ],\n",
       "    \"legend\": [\n",
       "        {\n",
       "            \"data\": [\n",
       "                \"\"\n",
       "            ],\n",
       "            \"selected\": {},\n",
       "            \"show\": true,\n",
       "            \"padding\": 5,\n",
       "            \"itemGap\": 10,\n",
       "            \"itemWidth\": 25,\n",
       "            \"itemHeight\": 14,\n",
       "            \"backgroundColor\": \"transparent\",\n",
       "            \"borderColor\": \"#ccc\",\n",
       "            \"borderRadius\": 0,\n",
       "            \"pageButtonItemGap\": 5,\n",
       "            \"pageButtonPosition\": \"end\",\n",
       "            \"pageFormatter\": \"{current}/{total}\",\n",
       "            \"pageIconColor\": \"#2f4554\",\n",
       "            \"pageIconInactiveColor\": \"#aaa\",\n",
       "            \"pageIconSize\": 15,\n",
       "            \"animationDurationUpdate\": 800,\n",
       "            \"selector\": false,\n",
       "            \"selectorPosition\": \"auto\",\n",
       "            \"selectorItemGap\": 7,\n",
       "            \"selectorButtonGap\": 10\n",
       "        }\n",
       "    ],\n",
       "    \"tooltip\": {\n",
       "        \"show\": true,\n",
       "        \"trigger\": \"item\",\n",
       "        \"triggerOn\": \"mousemove|click\",\n",
       "        \"axisPointer\": {\n",
       "            \"type\": \"line\"\n",
       "        },\n",
       "        \"showContent\": true,\n",
       "        \"alwaysShowContent\": false,\n",
       "        \"showDelay\": 0,\n",
       "        \"hideDelay\": 100,\n",
       "        \"enterable\": false,\n",
       "        \"confine\": false,\n",
       "        \"appendToBody\": false,\n",
       "        \"transitionDuration\": 0.4,\n",
       "        \"formatter\": function (params) {return params.name + ' : ' + params.value[2];},\n",
       "        \"textStyle\": {\n",
       "            \"fontSize\": 14\n",
       "        },\n",
       "        \"borderWidth\": 0,\n",
       "        \"padding\": 5,\n",
       "        \"order\": \"seriesAsc\"\n",
       "    },\n",
       "    \"xAxis\": [\n",
       "        {\n",
       "            \"type\": \"value\",\n",
       "            \"show\": true,\n",
       "            \"scale\": false,\n",
       "            \"nameLocation\": \"end\",\n",
       "            \"nameGap\": 15,\n",
       "            \"gridIndex\": 0,\n",
       "            \"axisPointer\": {\n",
       "                \"show\": true,\n",
       "                \"type\": \"shadow\",\n",
       "                \"triggerTooltip\": true,\n",
       "                \"triggerOn\": \"mousemove|click\"\n",
       "            },\n",
       "            \"inverse\": false,\n",
       "            \"offset\": 0,\n",
       "            \"splitNumber\": 5,\n",
       "            \"min\": \"dataMin\",\n",
       "            \"minInterval\": 0,\n",
       "            \"splitLine\": {\n",
       "                \"show\": false,\n",
       "                \"lineStyle\": {\n",
       "                    \"show\": true,\n",
       "                    \"width\": 1,\n",
       "                    \"opacity\": 1,\n",
       "                    \"curveness\": 0,\n",
       "                    \"type\": \"solid\"\n",
       "                }\n",
       "            },\n",
       "            \"data\": [\n",
       "                31849.17769903366,\n",
       "                35401.74269538625,\n",
       "                32276.2051534961,\n",
       "                37172.97521835126,\n",
       "                36475.94274310251,\n",
       "                32119.167715750154,\n",
       "                35665.42137438559,\n",
       "                41000.551000860185,\n",
       "                32140.428373941864,\n",
       "                35060.75695460891,\n",
       "                41832.12709994143,\n",
       "                35259.45937310516,\n",
       "                36618.26447258263,\n",
       "                34077.248987001185,\n",
       "                42037.94216439119,\n",
       "                39471.67561159271,\n",
       "                39975.8446721539,\n",
       "                41484.07918052395,\n",
       "                40614.058239038255,\n",
       "                31944.591743442877,\n",
       "                42119.33403700651,\n",
       "                39671.00627040668,\n",
       "                37743.044043094895,\n",
       "                38557.70050487913,\n",
       "                34466.05916535108,\n",
       "                33250.73908841339,\n",
       "                30457.785087123386,\n",
       "                41917.47503279958,\n",
       "                38722.84429394138,\n",
       "                38537.33280912917\n",
       "            ]\n",
       "        }\n",
       "    ],\n",
       "    \"yAxis\": [\n",
       "        {\n",
       "            \"type\": \"value\",\n",
       "            \"show\": true,\n",
       "            \"scale\": false,\n",
       "            \"nameLocation\": \"end\",\n",
       "            \"nameGap\": 15,\n",
       "            \"gridIndex\": 0,\n",
       "            \"axisLabel\": {\n",
       "                \"show\": true,\n",
       "                \"margin\": 8,\n",
       "                \"formatter\": \"{value}\"\n",
       "            },\n",
       "            \"inverse\": false,\n",
       "            \"offset\": 0,\n",
       "            \"splitNumber\": 5,\n",
       "            \"min\": \"dataMin\",\n",
       "            \"max\": \"max\",\n",
       "            \"minInterval\": 0,\n",
       "            \"splitLine\": {\n",
       "                \"show\": false,\n",
       "                \"lineStyle\": {\n",
       "                    \"show\": true,\n",
       "                    \"width\": 1,\n",
       "                    \"opacity\": 1,\n",
       "                    \"curveness\": 0,\n",
       "                    \"type\": \"solid\"\n",
       "                }\n",
       "            }\n",
       "        }\n",
       "    ],\n",
       "    \"title\": [\n",
       "        {\n",
       "            \"show\": true,\n",
       "            \"text\": \"\\u7ed3\\u679c\\u5c55\\u793a\",\n",
       "            \"target\": \"blank\",\n",
       "            \"subtext\": \"\\u526f\\u6807\\u9898\",\n",
       "            \"subtarget\": \"blank\",\n",
       "            \"padding\": 5,\n",
       "            \"itemGap\": 10,\n",
       "            \"textAlign\": \"auto\",\n",
       "            \"textVerticalAlign\": \"auto\",\n",
       "            \"triggerEvent\": false\n",
       "        }\n",
       "    ]\n",
       "};\n",
       "                chart_5074864dea81447594795e9841001eb1.setOption(option_5074864dea81447594795e9841001eb1);\n",
       "        });\n",
       "    </script>\n"
      ],
      "text/plain": [
       "<pyecharts.render.display.HTML at 0x1787b940d30>"
      ]
     },
     "execution_count": 5,
     "metadata": {},
     "output_type": "execute_result"
    }
   ],
   "source": [
    "import pyecharts.options as opts\n",
    "from pyecharts.charts import Scatter\n",
    "from pyecharts.commons.utils import JsCode\n",
    "\n",
    "# xLabel = \"抽水量\"\n",
    "yLabel = \"平均水位降深\"\n",
    "title= \"结果展示\"\n",
    "c = Scatter(init_opts=opts.InitOpts(width=\"900px\",height=\"600px \"))\n",
    "c.add_xaxis(xaxis_data=x_data)\n",
    "c.add_yaxis(\n",
    "    series_name=\"\",\n",
    "    y_axis=y_data,\n",
    "    #symbol_size=20,\n",
    "    label_opts=opts.LabelOpts(\n",
    "    is_show=False,\n",
    "    formatter=JsCode(\n",
    "        \"function(params){return params.value[1] +' : '+ params.value[2];}\",\n",
    "    )\n",
    "))\n",
    "c.set_series_opts(label_opts=opts.LabelOpts(is_show=False),\n",
    "                  markpoint_opts=opts.MarkPointOpts(\n",
    "                      data=[opts.MarkPointItem(type_=\"max\",name=\"最优\")]\n",
    "                  ))#特别标注部分值\n",
    "c.set_global_opts(\n",
    "    title_opts=opts.TitleOpts(title=title,subtitle=\"副标题\"),\n",
    "    xaxis_opts=opts.AxisOpts(\n",
    "        type_=\"value\",\n",
    "        min_=\"dataMin\",\n",
    "        splitline_opts=opts.SplitLineOpts(is_show=False),\n",
    "        axispointer_opts=opts.AxisPointerOpts(is_show=True,type_=\"shadow\")\n",
    "    ),\n",
    "    yaxis_opts=opts.AxisOpts(\n",
    "        type_=\"value\",\n",
    "        min_=\"dataMin\",\n",
    "        max_=\"max\",\n",
    "        axislabel_opts=opts.LabelOpts(formatter=\"{value}\"),\n",
    "        # axistick_opts=opts.AxisTickOpts(is_show=True),\n",
    "        splitline_opts=opts.SplitLineOpts(is_show=False),\n",
    "    ),\n",
    "    tooltip_opts=opts.TooltipOpts(\n",
    "        is_show=True,\n",
    "        formatter=JsCode(\n",
    "            \"function (params) {return params.name + ' : ' + params.value[2];}\"\n",
    "        )\n",
    "    ),\n",
    "),\n",
    "# animation_opts = opts.AnimationOpts(animation=False)\n",
    "\n",
    "c.render_notebook()"
   ]
  },
  {
   "cell_type": "code",
   "execution_count": 6,
   "metadata": {},
   "outputs": [
    {
     "data": {
      "application/vnd.plotly.v1+json": {
       "config": {
        "plotlyServerURL": "https://plot.ly"
       },
       "data": [
        {
         "customdata": [
          [
           9956.919678296832,
           7723.336680874629,
           14168.9213398622
          ],
          [
           11262.181547042333,
           10889.969780256772,
           13249.591368087147
          ],
          [
           13289.131489661617,
           5359.046400037497,
           13628.027263796988
          ],
          [
           9422.946175972358,
           13628.932546396434,
           14121.096495982474
          ],
          [
           9422.946175972358,
           13425.217730361617,
           13627.778836768539
          ],
          [
           10226.909695013324,
           7723.336680874629,
           14168.9213398622
          ],
          [
           11624.699728044328,
           10791.13027825411,
           13249.591368087147
          ],
          [
           13319.754208827633,
           14052.76952823556,
           13628.027263796988
          ],
          [
           10226.909695013324,
           7723.336680874629,
           14190.181998053911
          ],
          [
           10234.147115342997,
           11577.018471178762,
           13249.591368087147
          ],
          [
           13475.649943674789,
           14166.295158212723,
           14190.181998053911
          ],
          [
           10232.26196488642,
           11777.606040131594,
           13249.591368087147
          ],
          [
           10338.81007501052,
           14080.89066409642,
           12198.56373347569
          ],
          [
           9414.95061492485,
           10791.13027825411,
           13871.168093822229
          ],
          [
           13680.996113783958,
           14834.38496069828,
           13522.561089908948
          ],
          [
           11632.695289084104,
           13628.932546396434,
           14210.047776112173
          ],
          [
           14130.939144810747,
           13275.401693751211,
           12569.503833591942
          ],
          [
           13089.189318761773,
           14191.639097627027,
           14203.250764135148
          ],
          [
           13319.754208827633,
           13659.398853830045,
           13634.905176380578
          ],
          [
           9956.919678296832,
           7650.3309634402185,
           14337.341101705826
          ],
          [
           13680.996113783958,
           14840.517380129328,
           13597.820543093228
          ],
          [
           14366.09187428325,
           12735.410562531495,
           12569.503833591942
          ],
          [
           9422.946175972358,
           13701.524838563746,
           14618.573028558792
          ],
          [
           11823.439781432116,
           13628.932546396434,
           13105.328177050584
          ],
          [
           12678.715846050573,
           7614.553199999,
           14172.790119301506
          ],
          [
           9422.946175972358,
           9706.696416458564,
           14121.096495982474
          ],
          [
           12554.904787435102,
           5127.992816122283,
           12774.887483565999
          ],
          [
           13680.996113783958,
           14638.658375922394,
           13597.820543093228
          ],
          [
           11600.728243416734,
           13256.178154304664,
           13865.937896219988
          ],
          [
           10217.234942006631,
           13701.524838563746,
           14618.573028558792
          ]
         ],
         "hovertemplate": "Target1=%{x}<br>Target2=%{y}<br>well_1=%{customdata[0]}<br>well_2=%{customdata[1]}<br>well_3=%{customdata[2]}<extra></extra>",
         "legendgroup": "",
         "marker": {
          "color": "#636efa",
          "opacity": 1,
          "symbol": "circle"
         },
         "mode": "markers",
         "name": "",
         "orientation": "v",
         "showlegend": false,
         "type": "scatter",
         "x": [
          -31849.17769903366,
          -35401.74269538625,
          -32276.2051534961,
          -37172.97521835126,
          -36475.94274310251,
          -32119.167715750154,
          -35665.42137438559,
          -41000.551000860185,
          -32140.428373941864,
          -35060.75695460891,
          -41832.12709994143,
          -35259.45937310516,
          -36618.26447258263,
          -34077.248987001185,
          -42037.94216439119,
          -39471.67561159271,
          -39975.8446721539,
          -41484.07918052395,
          -40614.058239038255,
          -31944.591743442877,
          -42119.33403700651,
          -39671.00627040668,
          -37743.044043094895,
          -38557.70050487913,
          -34466.05916535108,
          -33250.73908841339,
          -30457.785087123386,
          -41917.47503279958,
          -38722.84429394138,
          -38537.33280912917
         ],
         "xaxis": "x",
         "y": [
          4.151975429035518,
          4.701132267807325,
          4.315551893243595,
          4.883580506309892,
          4.792951473267421,
          4.1970611382731065,
          4.748992266778558,
          5.559182544006363,
          4.199663738181117,
          4.623104883563831,
          5.6756751041190405,
          4.651032657733756,
          4.864043013074356,
          4.4511438420795235,
          5.723820897909387,
          5.276590112000662,
          5.453053472619046,
          5.612760573980278,
          5.5027551829399926,
          4.162463701384348,
          5.734447131390747,
          5.415899469203409,
          4.956366346962795,
          5.169594718375362,
          4.595305504176357,
          4.331971406292317,
          4.056412627880577,
          5.704821098244626,
          5.173703674111452,
          5.0932598362401
         ],
         "yaxis": "y"
        }
       ],
       "layout": {
        "height": 600,
        "legend": {
         "tracegroupgap": 0
        },
        "margin": {
         "t": 60
        },
        "plot_bgcolor": "rgb(255,255,255)",
        "template": {
         "data": {
          "bar": [
           {
            "error_x": {
             "color": "#2a3f5f"
            },
            "error_y": {
             "color": "#2a3f5f"
            },
            "marker": {
             "line": {
              "color": "#E5ECF6",
              "width": 0.5
             },
             "pattern": {
              "fillmode": "overlay",
              "size": 10,
              "solidity": 0.2
             }
            },
            "type": "bar"
           }
          ],
          "barpolar": [
           {
            "marker": {
             "line": {
              "color": "#E5ECF6",
              "width": 0.5
             },
             "pattern": {
              "fillmode": "overlay",
              "size": 10,
              "solidity": 0.2
             }
            },
            "type": "barpolar"
           }
          ],
          "carpet": [
           {
            "aaxis": {
             "endlinecolor": "#2a3f5f",
             "gridcolor": "white",
             "linecolor": "white",
             "minorgridcolor": "white",
             "startlinecolor": "#2a3f5f"
            },
            "baxis": {
             "endlinecolor": "#2a3f5f",
             "gridcolor": "white",
             "linecolor": "white",
             "minorgridcolor": "white",
             "startlinecolor": "#2a3f5f"
            },
            "type": "carpet"
           }
          ],
          "choropleth": [
           {
            "colorbar": {
             "outlinewidth": 0,
             "ticks": ""
            },
            "type": "choropleth"
           }
          ],
          "contour": [
           {
            "colorbar": {
             "outlinewidth": 0,
             "ticks": ""
            },
            "colorscale": [
             [
              0,
              "#0d0887"
             ],
             [
              0.1111111111111111,
              "#46039f"
             ],
             [
              0.2222222222222222,
              "#7201a8"
             ],
             [
              0.3333333333333333,
              "#9c179e"
             ],
             [
              0.4444444444444444,
              "#bd3786"
             ],
             [
              0.5555555555555556,
              "#d8576b"
             ],
             [
              0.6666666666666666,
              "#ed7953"
             ],
             [
              0.7777777777777778,
              "#fb9f3a"
             ],
             [
              0.8888888888888888,
              "#fdca26"
             ],
             [
              1,
              "#f0f921"
             ]
            ],
            "type": "contour"
           }
          ],
          "contourcarpet": [
           {
            "colorbar": {
             "outlinewidth": 0,
             "ticks": ""
            },
            "type": "contourcarpet"
           }
          ],
          "heatmap": [
           {
            "colorbar": {
             "outlinewidth": 0,
             "ticks": ""
            },
            "colorscale": [
             [
              0,
              "#0d0887"
             ],
             [
              0.1111111111111111,
              "#46039f"
             ],
             [
              0.2222222222222222,
              "#7201a8"
             ],
             [
              0.3333333333333333,
              "#9c179e"
             ],
             [
              0.4444444444444444,
              "#bd3786"
             ],
             [
              0.5555555555555556,
              "#d8576b"
             ],
             [
              0.6666666666666666,
              "#ed7953"
             ],
             [
              0.7777777777777778,
              "#fb9f3a"
             ],
             [
              0.8888888888888888,
              "#fdca26"
             ],
             [
              1,
              "#f0f921"
             ]
            ],
            "type": "heatmap"
           }
          ],
          "heatmapgl": [
           {
            "colorbar": {
             "outlinewidth": 0,
             "ticks": ""
            },
            "colorscale": [
             [
              0,
              "#0d0887"
             ],
             [
              0.1111111111111111,
              "#46039f"
             ],
             [
              0.2222222222222222,
              "#7201a8"
             ],
             [
              0.3333333333333333,
              "#9c179e"
             ],
             [
              0.4444444444444444,
              "#bd3786"
             ],
             [
              0.5555555555555556,
              "#d8576b"
             ],
             [
              0.6666666666666666,
              "#ed7953"
             ],
             [
              0.7777777777777778,
              "#fb9f3a"
             ],
             [
              0.8888888888888888,
              "#fdca26"
             ],
             [
              1,
              "#f0f921"
             ]
            ],
            "type": "heatmapgl"
           }
          ],
          "histogram": [
           {
            "marker": {
             "pattern": {
              "fillmode": "overlay",
              "size": 10,
              "solidity": 0.2
             }
            },
            "type": "histogram"
           }
          ],
          "histogram2d": [
           {
            "colorbar": {
             "outlinewidth": 0,
             "ticks": ""
            },
            "colorscale": [
             [
              0,
              "#0d0887"
             ],
             [
              0.1111111111111111,
              "#46039f"
             ],
             [
              0.2222222222222222,
              "#7201a8"
             ],
             [
              0.3333333333333333,
              "#9c179e"
             ],
             [
              0.4444444444444444,
              "#bd3786"
             ],
             [
              0.5555555555555556,
              "#d8576b"
             ],
             [
              0.6666666666666666,
              "#ed7953"
             ],
             [
              0.7777777777777778,
              "#fb9f3a"
             ],
             [
              0.8888888888888888,
              "#fdca26"
             ],
             [
              1,
              "#f0f921"
             ]
            ],
            "type": "histogram2d"
           }
          ],
          "histogram2dcontour": [
           {
            "colorbar": {
             "outlinewidth": 0,
             "ticks": ""
            },
            "colorscale": [
             [
              0,
              "#0d0887"
             ],
             [
              0.1111111111111111,
              "#46039f"
             ],
             [
              0.2222222222222222,
              "#7201a8"
             ],
             [
              0.3333333333333333,
              "#9c179e"
             ],
             [
              0.4444444444444444,
              "#bd3786"
             ],
             [
              0.5555555555555556,
              "#d8576b"
             ],
             [
              0.6666666666666666,
              "#ed7953"
             ],
             [
              0.7777777777777778,
              "#fb9f3a"
             ],
             [
              0.8888888888888888,
              "#fdca26"
             ],
             [
              1,
              "#f0f921"
             ]
            ],
            "type": "histogram2dcontour"
           }
          ],
          "mesh3d": [
           {
            "colorbar": {
             "outlinewidth": 0,
             "ticks": ""
            },
            "type": "mesh3d"
           }
          ],
          "parcoords": [
           {
            "line": {
             "colorbar": {
              "outlinewidth": 0,
              "ticks": ""
             }
            },
            "type": "parcoords"
           }
          ],
          "pie": [
           {
            "automargin": true,
            "type": "pie"
           }
          ],
          "scatter": [
           {
            "fillpattern": {
             "fillmode": "overlay",
             "size": 10,
             "solidity": 0.2
            },
            "type": "scatter"
           }
          ],
          "scatter3d": [
           {
            "line": {
             "colorbar": {
              "outlinewidth": 0,
              "ticks": ""
             }
            },
            "marker": {
             "colorbar": {
              "outlinewidth": 0,
              "ticks": ""
             }
            },
            "type": "scatter3d"
           }
          ],
          "scattercarpet": [
           {
            "marker": {
             "colorbar": {
              "outlinewidth": 0,
              "ticks": ""
             }
            },
            "type": "scattercarpet"
           }
          ],
          "scattergeo": [
           {
            "marker": {
             "colorbar": {
              "outlinewidth": 0,
              "ticks": ""
             }
            },
            "type": "scattergeo"
           }
          ],
          "scattergl": [
           {
            "marker": {
             "colorbar": {
              "outlinewidth": 0,
              "ticks": ""
             }
            },
            "type": "scattergl"
           }
          ],
          "scattermapbox": [
           {
            "marker": {
             "colorbar": {
              "outlinewidth": 0,
              "ticks": ""
             }
            },
            "type": "scattermapbox"
           }
          ],
          "scatterpolar": [
           {
            "marker": {
             "colorbar": {
              "outlinewidth": 0,
              "ticks": ""
             }
            },
            "type": "scatterpolar"
           }
          ],
          "scatterpolargl": [
           {
            "marker": {
             "colorbar": {
              "outlinewidth": 0,
              "ticks": ""
             }
            },
            "type": "scatterpolargl"
           }
          ],
          "scatterternary": [
           {
            "marker": {
             "colorbar": {
              "outlinewidth": 0,
              "ticks": ""
             }
            },
            "type": "scatterternary"
           }
          ],
          "surface": [
           {
            "colorbar": {
             "outlinewidth": 0,
             "ticks": ""
            },
            "colorscale": [
             [
              0,
              "#0d0887"
             ],
             [
              0.1111111111111111,
              "#46039f"
             ],
             [
              0.2222222222222222,
              "#7201a8"
             ],
             [
              0.3333333333333333,
              "#9c179e"
             ],
             [
              0.4444444444444444,
              "#bd3786"
             ],
             [
              0.5555555555555556,
              "#d8576b"
             ],
             [
              0.6666666666666666,
              "#ed7953"
             ],
             [
              0.7777777777777778,
              "#fb9f3a"
             ],
             [
              0.8888888888888888,
              "#fdca26"
             ],
             [
              1,
              "#f0f921"
             ]
            ],
            "type": "surface"
           }
          ],
          "table": [
           {
            "cells": {
             "fill": {
              "color": "#EBF0F8"
             },
             "line": {
              "color": "white"
             }
            },
            "header": {
             "fill": {
              "color": "#C8D4E3"
             },
             "line": {
              "color": "white"
             }
            },
            "type": "table"
           }
          ]
         },
         "layout": {
          "annotationdefaults": {
           "arrowcolor": "#2a3f5f",
           "arrowhead": 0,
           "arrowwidth": 1
          },
          "autotypenumbers": "strict",
          "coloraxis": {
           "colorbar": {
            "outlinewidth": 0,
            "ticks": ""
           }
          },
          "colorscale": {
           "diverging": [
            [
             0,
             "#8e0152"
            ],
            [
             0.1,
             "#c51b7d"
            ],
            [
             0.2,
             "#de77ae"
            ],
            [
             0.3,
             "#f1b6da"
            ],
            [
             0.4,
             "#fde0ef"
            ],
            [
             0.5,
             "#f7f7f7"
            ],
            [
             0.6,
             "#e6f5d0"
            ],
            [
             0.7,
             "#b8e186"
            ],
            [
             0.8,
             "#7fbc41"
            ],
            [
             0.9,
             "#4d9221"
            ],
            [
             1,
             "#276419"
            ]
           ],
           "sequential": [
            [
             0,
             "#0d0887"
            ],
            [
             0.1111111111111111,
             "#46039f"
            ],
            [
             0.2222222222222222,
             "#7201a8"
            ],
            [
             0.3333333333333333,
             "#9c179e"
            ],
            [
             0.4444444444444444,
             "#bd3786"
            ],
            [
             0.5555555555555556,
             "#d8576b"
            ],
            [
             0.6666666666666666,
             "#ed7953"
            ],
            [
             0.7777777777777778,
             "#fb9f3a"
            ],
            [
             0.8888888888888888,
             "#fdca26"
            ],
            [
             1,
             "#f0f921"
            ]
           ],
           "sequentialminus": [
            [
             0,
             "#0d0887"
            ],
            [
             0.1111111111111111,
             "#46039f"
            ],
            [
             0.2222222222222222,
             "#7201a8"
            ],
            [
             0.3333333333333333,
             "#9c179e"
            ],
            [
             0.4444444444444444,
             "#bd3786"
            ],
            [
             0.5555555555555556,
             "#d8576b"
            ],
            [
             0.6666666666666666,
             "#ed7953"
            ],
            [
             0.7777777777777778,
             "#fb9f3a"
            ],
            [
             0.8888888888888888,
             "#fdca26"
            ],
            [
             1,
             "#f0f921"
            ]
           ]
          },
          "colorway": [
           "#636efa",
           "#EF553B",
           "#00cc96",
           "#ab63fa",
           "#FFA15A",
           "#19d3f3",
           "#FF6692",
           "#B6E880",
           "#FF97FF",
           "#FECB52"
          ],
          "font": {
           "color": "#2a3f5f"
          },
          "geo": {
           "bgcolor": "white",
           "lakecolor": "white",
           "landcolor": "#E5ECF6",
           "showlakes": true,
           "showland": true,
           "subunitcolor": "white"
          },
          "hoverlabel": {
           "align": "left"
          },
          "hovermode": "closest",
          "mapbox": {
           "style": "light"
          },
          "paper_bgcolor": "white",
          "plot_bgcolor": "#E5ECF6",
          "polar": {
           "angularaxis": {
            "gridcolor": "white",
            "linecolor": "white",
            "ticks": ""
           },
           "bgcolor": "#E5ECF6",
           "radialaxis": {
            "gridcolor": "white",
            "linecolor": "white",
            "ticks": ""
           }
          },
          "scene": {
           "xaxis": {
            "backgroundcolor": "#E5ECF6",
            "gridcolor": "white",
            "gridwidth": 2,
            "linecolor": "white",
            "showbackground": true,
            "ticks": "",
            "zerolinecolor": "white"
           },
           "yaxis": {
            "backgroundcolor": "#E5ECF6",
            "gridcolor": "white",
            "gridwidth": 2,
            "linecolor": "white",
            "showbackground": true,
            "ticks": "",
            "zerolinecolor": "white"
           },
           "zaxis": {
            "backgroundcolor": "#E5ECF6",
            "gridcolor": "white",
            "gridwidth": 2,
            "linecolor": "white",
            "showbackground": true,
            "ticks": "",
            "zerolinecolor": "white"
           }
          },
          "shapedefaults": {
           "line": {
            "color": "#2a3f5f"
           }
          },
          "ternary": {
           "aaxis": {
            "gridcolor": "white",
            "linecolor": "white",
            "ticks": ""
           },
           "baxis": {
            "gridcolor": "white",
            "linecolor": "white",
            "ticks": ""
           },
           "bgcolor": "#E5ECF6",
           "caxis": {
            "gridcolor": "white",
            "linecolor": "white",
            "ticks": ""
           }
          },
          "title": {
           "x": 0.05
          },
          "xaxis": {
           "automargin": true,
           "gridcolor": "white",
           "linecolor": "white",
           "ticks": "",
           "title": {
            "standoff": 15
           },
           "zerolinecolor": "white",
           "zerolinewidth": 2
          },
          "yaxis": {
           "automargin": true,
           "gridcolor": "white",
           "linecolor": "white",
           "ticks": "",
           "title": {
            "standoff": 15
           },
           "zerolinecolor": "white",
           "zerolinewidth": 2
          }
         }
        },
        "title": {
         "font": {
          "color": "black",
          "family": "Times new Roman",
          "size": 24
         },
         "text": "Pareto",
         "x": 0.5,
         "xanchor": "center",
         "y": 0.95,
         "yanchor": "top"
        },
        "width": 900,
        "xaxis": {
         "anchor": "y",
         "autorange": true,
         "domain": [
          0,
          1
         ],
         "linecolor": "black",
         "linewidth": 1,
         "mirror": true,
         "showgrid": true,
         "showline": true,
         "showticklabels": true,
         "tickangle": 0,
         "tickfont": {
          "color": "black",
          "family": "Times new Roman",
          "size": 20
         },
         "ticks": "outside",
         "title": {
          "text": "总抽水量"
         },
         "zeroline": true
        },
        "yaxis": {
         "anchor": "x",
         "autorange": true,
         "domain": [
          0,
          1
         ],
         "linecolor": "black",
         "linewidth": 1,
         "mirror": true,
         "showline": true,
         "tickfont": {
          "color": "black",
          "family": "Times new Roman",
          "size": 20
         },
         "ticks": "outside",
         "title": {
          "text": "平均水位降深"
         }
        }
       }
      }
     },
     "metadata": {},
     "output_type": "display_data"
    }
   ],
   "source": [
    "import plotly\n",
    "import plotly.graph_objects as go\n",
    "\n",
    "\n",
    "# print(plotly.__version__)\n",
    "\n",
    "\n",
    "import plotly.express as px\n",
    "\n",
    "fig = px.scatter(\n",
    "    data_frame=dataset,\n",
    "    x=\"Target1\",\n",
    "    y=\"Target2\",\n",
    "    hover_data=[\"well_1\", \"well_2\", \"well_3\"],\n",
    "    opacity=1,\n",
    "    width=900,\n",
    "    height=600,\n",
    ")\n",
    "\n",
    "\n",
    "fig.update_layout(\n",
    "    plot_bgcolor=\"rgb(255,255,255)\",\n",
    "    title={\n",
    "        \"text\": \"Pareto\",\n",
    "        \"x\": 0.5,  # 标题水平居中\n",
    "        \"y\": 0.95,  # 标题距离图表顶部的距离\n",
    "        \"xanchor\": \"center\",  # x轴锚点为中心\n",
    "        \"yanchor\": \"top\",  # y轴锚点为顶部\n",
    "        \"font\": {\n",
    "            \"size\": 24,\n",
    "            \"color\": \"black\",\n",
    "            \"family\": \"Times new Roman\",\n",
    "        },  # 标题字体大小  # 标题颜色\n",
    "    },\n",
    "    xaxis=dict(\n",
    "        title=\"总抽水量\",\n",
    "        tickangle=0,  # 旋转角度\n",
    "        showline=True,\n",
    "        autorange=True,\n",
    "        #nticks=10,\n",
    "        zeroline=True,\n",
    "        linecolor=\"black\",\n",
    "        linewidth=1,\n",
    "        mirror=True,\n",
    "        showgrid=True,\n",
    "        # gridcolor=\"black\",\n",
    "        showticklabels=True,\n",
    "        tickfont={\n",
    "            \"size\": 20,\n",
    "            \"color\": \"black\",\n",
    "            \"family\": \"Times new Roman\",\n",
    "        },\n",
    "        ticks=\"outside\",\n",
    "    ),\n",
    "    yaxis=dict(\n",
    "        title=\"平均水位降深\",\n",
    "        autorange=True,\n",
    "        showline=True,\n",
    "        linecolor=\"black\",\n",
    "        linewidth=1,\n",
    "        # gridcolor=\"black\",\n",
    "        mirror=True,\n",
    "        tickfont={\n",
    "            \"size\": 20,\n",
    "            \"color\": \"black\",\n",
    "            \"family\": \"Times new Roman\",\n",
    "        },\n",
    "        ticks=\"outside\",\n",
    "    ),\n",
    ")\n",
    "fig.show()"
   ]
  },
  {
   "cell_type": "code",
   "execution_count": 7,
   "metadata": {},
   "outputs": [
    {
     "name": "stdout",
     "output_type": "stream",
     "text": [
      "Best regarding ASF: Point \n",
      "i = 12\n",
      "F = [-3.66182645e+04  4.86404301e+00]\n"
     ]
    },
    {
     "data": {
      "text/plain": [
       "Text(0.5, 1.0, 'Objective Space')"
      ]
     },
     "execution_count": 7,
     "metadata": {},
     "output_type": "execute_result"
    },
    {
     "data": {
      "image/png": "[encoded data removed]",
      "text/plain": [
       "<Figure size 640x480 with 1 Axes>"
      ]
     },
     "metadata": {},
     "output_type": "display_data"
    }
   ],
   "source": [
    "from sklearn.preprocessing import MinMaxScaler\n",
    "\n",
    "nF = MinMaxScaler().fit_transform(F)\n",
    "weights = np.array([0.5, 0.5])\n",
    "from pymoo.decomposition.asf import ASF\n",
    "\n",
    "decomp = ASF()\n",
    "i = decomp.do(nF, 1 / weights).argmin()\n",
    "print(\"Best regarding ASF: Point \\ni = %s\\nF = %s\" % (i, F[i]))\n",
    "\n",
    "plt.scatter(-F[:, 0], F[:, 1], s=30, facecolors=\"none\", edgecolors=\"blue\")\n",
    "plt.scatter(-F[i, 0], F[i, 1], marker=\"x\", color=\"red\", s=200)\n",
    "plt.scatter(\n",
    "    -F.min(axis=0)[0],\n",
    "    F.min(axis=0)[1],\n",
    "    facecolors=\"none\",\n",
    "    edgecolors=\"red\",\n",
    "    marker=\"*\",\n",
    "    s=100,\n",
    "    label=\"Ideal Point (Approx)\",\n",
    ")\n",
    "\n",
    "plt.title(\"Objective Space\")\n"
   ]
  },
  {
   "cell_type": "code",
   "execution_count": 2,
   "metadata": {},
   "outputs": [
    {
     "data": {
      "text/plain": [
       "<matplotlib.colorbar.Colorbar at 0x1917439efd0>"
      ]
     },
     "execution_count": 2,
     "metadata": {},
     "output_type": "execute_result"
    },
    {
     "data": {
      "image/png": "[encoded data removed]",
      "text/plain": [
       "<Figure size 640x480 with 2 Axes>"
      ]
     },
     "metadata": {},
     "output_type": "display_data"
    }
   ],
   "source": [
    "import os\n",
    "import numpy as np\n",
    "import pandas as pd\n",
    "import flopy\n",
    "from tempfile import TemporaryDirectory\n",
    "\n",
    "# filename\n",
    "temp_dir = TemporaryDirectory()\n",
    "sim_ws = os.path.join(temp_dir.name)\n",
    "sim_name = \"IdealModel1\"\n",
    "gwfname = \"gwf_\" + sim_name\n",
    "gwtname = \"gwt_\" + sim_name\n",
    "#sim_ws = \"C:/Users/ART/Desktop/mf6\"\n",
    "# units\n",
    "length_units = \"meters\"\n",
    "time_units = \"days\"\n",
    "\n",
    "# Discretization\n",
    "nper = 1\n",
    "nlay = 1\n",
    "nrow = 11\n",
    "ncol = 11\n",
    "delr = 1000\n",
    "delc = 1000\n",
    "top = 30\n",
    "botm = -10\n",
    "idomain = 1\n",
    "\n",
    "# GWF\n",
    "icelltype = 1  # 潜水含水层\n",
    "\n",
    "k11 = np.full([11, 11], 90)  # 渗透系数\n",
    "k11[:4, :6] = 150\n",
    "k11[8:, :] = 60\n",
    "k11[5:8, 9:] = 60\n",
    "\n",
    "# Temporal discretization\n",
    "perlen = 1000.0\n",
    "nstp = 1\n",
    "tsmult = 1.0\n",
    "tdis_ds = []\n",
    "tdis_ds.append((perlen, nstp, tsmult))\n",
    "\n",
    "# Solver parameters\n",
    "nouter, ninner = 100, 300\n",
    "hclose, rclose, relax = 1e-6, 1e-6, 1.0\n",
    "\n",
    "# Initial conditions\n",
    "# Starting Heads\n",
    "strt = np.full([11, 11], 30, dtype=float)\n",
    "\n",
    "# Boundary conditions\n",
    "# wel_spd\n",
    "\n",
    "wel_spd = [[0, 2, 3, -10000], [0, 5, 4, -10000], [0, 6, 10, -10000]]\n",
    "wel_spd = {0: wel_spd}\n",
    "\n",
    "# chd_spd\n",
    "chd_spd = []\n",
    "for i in np.arange(ncol):\n",
    "    chd_spd.append([0, 10, i, 30.0])\n",
    "\n",
    "sim = flopy.mf6.MFSimulation(sim_name=sim_name, sim_ws=sim_ws, exe_name=\"mf6\")\n",
    "\n",
    "flopy.mf6.ModflowTdis(sim, nper=nper, perioddata=tdis_ds, time_units=time_units)\n",
    "\n",
    "gwf = flopy.mf6.ModflowGwf(\n",
    "    sim,\n",
    "    modelname=gwfname,\n",
    "    save_flows=True,\n",
    "    model_nam_file=\"{}.nam\".format(gwfname),\n",
    ")\n",
    "\n",
    "ims = flopy.mf6.ModflowIms(\n",
    "    sim,\n",
    "    print_option=\"SUMMARY\",\n",
    "    outer_dvclose=hclose,\n",
    "    outer_maximum=nouter,\n",
    "    under_relaxation=\"NONE\",\n",
    "    inner_maximum=ninner,\n",
    "    inner_dvclose=hclose,\n",
    "    rcloserecord=rclose,\n",
    "    linear_acceleration=\"CG\",\n",
    "    scaling_method=\"NONE\",\n",
    "    reordering_method=\"NONE\",\n",
    "    relaxation_factor=relax,\n",
    "    filename=\"{}.ims\".format(gwfname),\n",
    ")\n",
    "sim.register_ims_package(ims, [gwf.name])\n",
    "\n",
    "flopy.mf6.ModflowGwfdis(\n",
    "    gwf,\n",
    "    length_units=length_units,\n",
    "    nlay=nlay,\n",
    "    nrow=nrow,\n",
    "    ncol=ncol,\n",
    "    delr=delr,\n",
    "    delc=delc,\n",
    "    top=top,\n",
    "    botm=botm,\n",
    "    idomain=idomain,\n",
    "    filename=\"{}.dis\".format(gwfname),\n",
    ")\n",
    "\n",
    "flopy.mf6.ModflowGwfnpf(\n",
    "    gwf,\n",
    "    save_flows=False,\n",
    "    icelltype=icelltype,\n",
    "    k=k11,\n",
    "    k33=k11,\n",
    "    save_specific_discharge=True,\n",
    "    filename=\"{}.npf\".format(gwfname),\n",
    ")\n",
    "\n",
    "flopy.mf6.ModflowGwfic(gwf, strt=strt, filename=\"{}.ic\".format(gwfname))\n",
    "\n",
    "flopy.mf6.ModflowGwfchd(\n",
    "    gwf,\n",
    "    maxbound=len(chd_spd),\n",
    "    stress_period_data=chd_spd,\n",
    "    save_flows=False,\n",
    "    pname=\"CHD-1\",\n",
    "    filename=\"{}.chd\".format(gwfname),\n",
    ")\n",
    "\n",
    "flopy.mf6.ModflowGwfwel(\n",
    "    gwf,\n",
    "    print_input=True,\n",
    "    print_flows=True,\n",
    "    stress_period_data=wel_spd,\n",
    "    save_flows=True,\n",
    "    pname=\"WEL-1\",\n",
    "    filename=\"{}.wel\".format(gwfname),\n",
    ")\n",
    "\n",
    "flopy.mf6.ModflowGwfoc(\n",
    "    gwf,\n",
    "    head_filerecord=\"{}.hds\".format(gwfname),\n",
    "    budget_filerecord=\"{}.bud\".format(gwfname),\n",
    "    saverecord=[(\"HEAD\", \"ALL\"), (\"BUDGET\", \"ALL\")],\n",
    "    printrecord=[(\"HEAD\", \"ALL\"), (\"BUDGET\", \"ALL\")],\n",
    ")\n",
    "\n",
    "sim.write_simulation(silent=True)\n",
    "success, buff = sim.run_simulation(silent=True)\n",
    "if not success:\n",
    "    raise Exception(\"MODFLOW 6 did not terminate normally.\")\n",
    "\n",
    "head = gwf.oc.output.head().get_alldata()[0, 0]\n",
    "import matplotlib.pyplot as plt\n",
    "plt.imshow(head)\n",
    "plt.colorbar()"
   ]
  }
 ],
 "metadata": {
  "kernelspec": {
   "display_name": "mainPy",
   "language": "python",
   "name": "python3"
  },
  "language_info": {
   "codemirror_mode": {
    "name": "ipython",
    "version": 3
   },
   "file_extension": ".py",
   "mimetype": "text/x-python",
   "name": "python",
   "nbconvert_exporter": "python",
   "pygments_lexer": "ipython3",
   "version": "3.9.18"
  }
 },
 "nbformat": 4,
 "nbformat_minor": 2
}
