{
 "cells": [
  {
   "cell_type": "code",
   "execution_count": 18,
   "metadata": {},
   "outputs": [
    {
     "name": "stderr",
     "output_type": "stream",
     "text": [
      "Exception ignored in: <finalize object at 0x1b3c1f40580; dead>\n",
      "Traceback (most recent call last):\n",
      "  File \"c:\\Environment\\MiniConda\\envs\\backend\\lib\\weakref.py\", line 591, in __call__\n",
      "    return info.func(*info.args, **(info.kwargs or {}))\n",
      "  File \"c:\\Environment\\MiniConda\\envs\\backend\\lib\\tempfile.py\", line 820, in _cleanup\n",
      "    cls._rmtree(name)\n",
      "  File \"c:\\Environment\\MiniConda\\envs\\backend\\lib\\tempfile.py\", line 816, in _rmtree\n",
      "    _shutil.rmtree(name, onerror=onerror)\n",
      "  File \"c:\\Environment\\MiniConda\\envs\\backend\\lib\\shutil.py\", line 759, in rmtree\n",
      "    return _rmtree_unsafe(path, onerror)\n",
      "  File \"c:\\Environment\\MiniConda\\envs\\backend\\lib\\shutil.py\", line 629, in _rmtree_unsafe\n",
      "    onerror(os.unlink, fullname, sys.exc_info())\n",
      "  File \"c:\\Environment\\MiniConda\\envs\\backend\\lib\\tempfile.py\", line 808, in onerror\n",
      "    cls._rmtree(path)\n",
      "  File \"c:\\Environment\\MiniConda\\envs\\backend\\lib\\tempfile.py\", line 816, in _rmtree\n",
      "    _shutil.rmtree(name, onerror=onerror)\n",
      "  File \"c:\\Environment\\MiniConda\\envs\\backend\\lib\\shutil.py\", line 759, in rmtree\n",
      "    return _rmtree_unsafe(path, onerror)\n",
      "  File \"c:\\Environment\\MiniConda\\envs\\backend\\lib\\shutil.py\", line 610, in _rmtree_unsafe\n",
      "    onerror(os.scandir, path, sys.exc_info())\n",
      "  File \"c:\\Environment\\MiniConda\\envs\\backend\\lib\\shutil.py\", line 607, in _rmtree_unsafe\n",
      "    with os.scandir(path) as scandir_it:\n",
      "NotADirectoryError: [WinError 267] 目录名称无效。: 'C:\\\\Users\\\\ART\\\\AppData\\\\Local\\\\Temp\\\\tmp8t85tbx8\\\\remake.hds'\n"
     ]
    },
    {
     "name": "stdout",
     "output_type": "stream",
     "text": [
      "FloPy is using the following executable to run the model: ..\\..\\AppData\\Local\\flopy\\bin\\mf2005.exe\n",
      "\n",
      "                                  MODFLOW-2005     \n",
      "    U.S. GEOLOGICAL SURVEY MODULAR FINITE-DIFFERENCE GROUND-WATER FLOW MODEL\n",
      "                             Version 1.12.00 2/3/2017                        \n",
      "\n",
      " Using NAME file: Pumping_problem.nam \n",
      " Run start date and time (yyyy/mm/dd hh:mm:ss): 2024/06/13 10:46:34\n",
      "\n",
      " Solving:  Stress period:     1    Time step:     1    Ground-Water Flow Eqn.\n",
      " Run end date and time (yyyy/mm/dd hh:mm:ss): 2024/06/13 10:46:34\n",
      " Elapsed run time:  0.020 Seconds\n",
      "\n",
      "  Normal termination of simulation\n",
      "(1, 11, 11)\n"
     ]
    },
    {
     "data": {
      "text/plain": [
       "<matplotlib.colorbar.Colorbar at 0x1b3c32ed640>"
      ]
     },
     "execution_count": 18,
     "metadata": {},
     "output_type": "execute_result"
    },
    {
     "data": {
      "image/png": "[encoded data removed]",
      "text/plain": [
       "<Figure size 640x480 with 2 Axes>"
      ]
     },
     "metadata": {},
     "output_type": "display_data"
    }
   ],
   "source": [
    "import os\n",
    "import numpy as np\n",
    "import pandas as pd\n",
    "import flopy\n",
    "from tempfile import TemporaryDirectory\n",
    "\n",
    "# dirpath = os.path.dirname(__file__)\n",
    "# sim_ws = os.path.join(dirpath, \"../modelCache\")\n",
    "\n",
    "\n",
    "temp_dir = TemporaryDirectory()\n",
    "sim_ws = os.path.join(temp_dir.name)\n",
    "sim_ws = \"C:/Users/ART/Desktop/mf6\"\n",
    "modelname = \"Pumping_problem\"\n",
    "mf = flopy.modflow.Modflow(\n",
    "    modelname=modelname,\n",
    "    exe_name=\"mf2005\",\n",
    "    version=\"mf2005\",\n",
    "    model_ws=sim_ws,\n",
    ")\n",
    "\n",
    "# 2. 离散DIS\n",
    "Lx = 11000.0  # x 长度\n",
    "Ly = 11000.0  # y 长度\n",
    "ztop = 30  # z 顶部高程\n",
    "zbot = -10  # z 底部高程\n",
    "nlay = 1  # 含水层层数\n",
    "nrow = 11  # 行数\n",
    "ncol = 11  # 列数\n",
    "delr = Lx / ncol  # x 方向步长\n",
    "delc = Ly / nrow  # y 方向步长\n",
    "botm = np.linspace(ztop, zbot, nlay + 1)  # z 每一层的底部高程\n",
    "nper = 1  # 应力期数\n",
    "perlen = [1000]  # 每个应力期的时间长度\n",
    "nstp = [1]  # 每个应力期的时间步数\n",
    "steady = [True]  # 每个应力期是否稳态\n",
    "# Unit System\n",
    "itmuni = 4  # time units (0=undefined,1=seconds,2=minutes,3=hours,4=days, default:4)\n",
    "lenuni = 2  # lenght units (0=undefined,1=feet,2=meters, 3=centimeters,defaut:2)\n",
    "dis = flopy.modflow.ModflowDis(\n",
    "    model=mf,\n",
    "    nlay=nlay,\n",
    "    nrow=nrow,\n",
    "    ncol=ncol,\n",
    "    delr=delr,\n",
    "    delc=delc,\n",
    "    top=ztop,\n",
    "    botm=botm[1:],\n",
    "    nper=nper,\n",
    "    perlen=perlen,\n",
    "    nstp=nstp,\n",
    "    steady=steady,\n",
    "    itmuni=itmuni,\n",
    "    lenuni=lenuni,\n",
    ")\n",
    "# 3. 基础包BAS\n",
    "ibound = np.ones((nlay, nrow, ncol), dtype=np.int32)\n",
    "ibound[:, 10, :] = -1\n",
    "strt = np.full([11, 11], 30, dtype=float)  # 初始水头为30\n",
    "\n",
    "bas = flopy.modflow.ModflowBas(mf, ibound=ibound, strt=strt)\n",
    "# 4. LPF\n",
    "vka = 10  # 当layvka>0时，vka表示水平渗透系数和垂直渗透系数的比值\n",
    "icelltype = 1  # 潜水含水层\n",
    "k11 = np.full([11, 11], 90)  # 渗透系数\n",
    "k11[:4, :6] = 150\n",
    "k11[8:, :] = 60\n",
    "k11[5:8, 9:] = 60\n",
    "# 水平各项异性默认为1，贮水率使用默认值。潜水含水层\n",
    "lpf = flopy.modflow.ModflowLpf(mf, laytyp=1, hk=k11, ipakcb=53)\n",
    "###################################################################################################\n",
    "# 5. CHD 常水头边界\n",
    "chd_spd = []\n",
    "for i in np.arange(ncol):\n",
    "    chd_spd.append([0, 10,i, 30.0, 30.0])### layer, row, column, stage, conductance, river bottom\n",
    "stress_period_data = {0: chd_spd}\n",
    "# Create the flopy chd object\n",
    "chd = flopy.modflow.ModflowChd(mf, stress_period_data=stress_period_data)\n",
    "#################################################################################################\n",
    "# 6. 通过在右边界设置一排井来表示指定流量边界\n",
    "wel_spd = [[0, 2, 3, -10000], [0, 5, 4, -10000], [0, 6, 10, -10000]]\n",
    "stress_period_data = {0: wel_spd}\n",
    "# note 当ipakcb大于0时，才会保存.cbc文件\n",
    "wel = flopy.modflow.ModflowWel(mf, stress_period_data=stress_period_data)\n",
    "###################################################################################################\n",
    "# 7. OC\n",
    "# 每个时间步结束保存水头\n",
    "stress_period_data = {}\n",
    "for kper in range(nper):\n",
    "    for kstp in range(nstp[kper]):\n",
    "        stress_period_data[(kper, kstp)] = [\n",
    "            \"save head\",  # 保存水头\n",
    "            \"save drawdown\",  # 保存水头降落\n",
    "            \"save budget\",  # 保存水量收支\n",
    "            \"print head\",\n",
    "            \"print budget\",\n",
    "        ]\n",
    "oc = flopy.modflow.ModflowOc(mf, stress_period_data=stress_period_data, compact=True)\n",
    "# 9. PCG 求解器\n",
    "pcg = flopy.modflow.ModflowPcg(mf)\n",
    "\n",
    "# 尝试删除输出文件，防止使用之前的旧文件\n",
    "# try:\n",
    "#     delete_files_in_directory(sim_ws)\n",
    "#     # os.remove(os.path.join(sim_ws, sim_name + \".ccf\"))\n",
    "# except FileNotFoundError:\n",
    "#     pass\n",
    "\n",
    "# 写入输入文件\n",
    "mf.write_input()\n",
    "# 运行水流模型\n",
    "success, mfoutput = mf.run_model(silent=False)\n",
    "assert success, \"MODFLOW did not terminate normally!\"\n",
    "import flopy.utils.binaryfile as bf\n",
    "import matplotlib.pyplot as plt\n",
    "hds = bf.HeadFile(os.path.join(sim_ws, modelname + \".hds\"))\n",
    "# budg = bf.CellBudgetFile(os.path.join(sim_ws, sim_name + \".ccf\"))\n",
    "head = hds.get_data()\n",
    "print(head.shape)\n",
    "plt.imshow(head[0])\n",
    "plt.colorbar()"
   ]
  },
  {
   "cell_type": "code",
   "execution_count": 9,
   "metadata": {},
   "outputs": [
    {
     "name": "stdout",
     "output_type": "stream",
     "text": [
      "[[[ 1  1  1  1  1  1  1  1  1  1  1]\n",
      "  [ 1  1  1  1  1  1  1  1  1  1  1]\n",
      "  [ 1  1  1  1  1  1  1  1  1  1  1]\n",
      "  [ 1  1  1  1  1  1  1  1  1  1  1]\n",
      "  [ 1  1  1  1  1  1  1  1  1  1  1]\n",
      "  [ 1  1  1  1  1  1  1  1  1  1  1]\n",
      "  [ 1  1  1  1  1  1  1  1  1  1  1]\n",
      "  [ 1  1  1  1  1  1  1  1  1  1  1]\n",
      "  [ 1  1  1  1  1  1  1  1  1  1  1]\n",
      "  [ 1  1  1  1  1  1  1  1  1  1  1]\n",
      "  [-1 -1 -1 -1 -1 -1 -1 -1 -1 -1 -1]]]\n"
     ]
    }
   ],
   "source": [
    "Lx = 11000.0  # x 长度\n",
    "Ly = 11000.0  # y 长度\n",
    "ztop = 30  # z 顶部高程\n",
    "zbot = -10  # z 底部高程\n",
    "nlay = 1  # 含水层层数\n",
    "nrow = 11  # 行数\n",
    "ncol = 11  # 列数\n",
    "delr = Lx / ncol  # x 方向步长\n",
    "delc = Ly / nrow  # y 方向步长\n",
    "ibound = np.ones((nlay, nrow, ncol), dtype=np.int32)\n",
    "ibound[:, 10, :] = -1  # 最左边的列是常水头边界\n",
    "print(ibound)"
   ]
  },
  {
   "cell_type": "code",
   "execution_count": 14,
   "metadata": {},
   "outputs": [
    {
     "name": "stdout",
     "output_type": "stream",
     "text": [
      "[[0, 10, 0, 30.0], [0, 10, 1, 30.0], [0, 10, 2, 30.0], [0, 10, 3, 30.0], [0, 10, 4, 30.0], [0, 10, 5, 30.0], [0, 10, 6, 30.0], [0, 10, 7, 30.0], [0, 10, 8, 30.0], [0, 10, 9, 30.0], [0, 10, 10, 30.0]]\n"
     ]
    }
   ],
   "source": [
    "chd_spd = []\n",
    "for i in np.arange(ncol):\n",
    "    chd_spd.append([0, 10, i, 30.0])\n",
    "print(chd_spd)"
   ]
  },
  {
   "cell_type": "code",
   "execution_count": 15,
   "metadata": {},
   "outputs": [
    {
     "name": "stdout",
     "output_type": "stream",
     "text": [
      "[[0, 0, 10, 0, 30.0], [0, 0, 10, 1, 30.0], [0, 0, 10, 2, 30.0], [0, 0, 10, 3, 30.0], [0, 0, 10, 4, 30.0], [0, 0, 10, 5, 30.0], [0, 0, 10, 6, 30.0], [0, 0, 10, 7, 30.0], [0, 0, 10, 8, 30.0], [0, 0, 10, 9, 30.0], [0, 0, 10, 10, 30.0]]\n"
     ]
    }
   ],
   "source": [
    "chd_new = []\n",
    "for i in np.arange(ncol):\n",
    "    chd_new.append([0, 0, 10, i, 30.0])\n",
    "print(chd_new)"
   ]
  }
 ],
 "metadata": {
  "kernelspec": {
   "display_name": "backend",
   "language": "python",
   "name": "python3"
  },
  "language_info": {
   "codemirror_mode": {
    "name": "ipython",
    "version": 3
   },
   "file_extension": ".py",
   "mimetype": "text/x-python",
   "name": "python",
   "nbconvert_exporter": "python",
   "pygments_lexer": "ipython3",
   "version": "3.9.18"
  }
 },
 "nbformat": 4,
 "nbformat_minor": 2
}
