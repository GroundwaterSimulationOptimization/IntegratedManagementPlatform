{
 "cells": [
  {
   "cell_type": "code",
   "execution_count": 1,
   "metadata": {},
   "outputs": [],
   "source": [
    "from pathlib import Path\n",
    "from tempfile import TemporaryDirectory\n",
    "import flopy\n",
    "\n",
    "temp_dir = TemporaryDirectory()\n",
    "workspace = temp_dir.name\n",
    "name = \"mf6_model1\"      #模型名称\n",
    "length_units = \"meters\"  # 长度单位\n",
    "time_units = \"day\"  # 时间单位"
   ]
  },
  {
   "cell_type": "code",
   "execution_count": 2,
   "metadata": {},
   "outputs": [
    {
     "name": "stdout",
     "output_type": "stream",
     "text": [
      "Done creating simulation.\n"
     ]
    }
   ],
   "source": [
    "sim = flopy.mf6.MFSimulation(sim_name=name, sim_ws=workspace)\n",
    "# 将模拟进行时间离散化。perioddata 由 [perlen, nstp, tsmult] 构成，其中：\n",
    "# perlen 是一个应力周期的长度。\n",
    "# nstp 是一个应力周期的时间步数，为整数。\n",
    "# tsmult 是连续时间步数的乘数，一般为 1，用于计算一个应力周期下时间步长，其计算方式可表示为：\n",
    "flopy.mf6.ModflowTdis(sim, nper=10, perioddata=[[365.0, 1, 1.0] for _ in range(10)])\n",
    "# 设置求解器\n",
    "flopy.mf6.ModflowIms(sim)\n",
    "\n",
    "# 建立模型 在 MODFLOW 6 中，渗流模型为 GWF，溶质运移模型为 GWT\n",
    "gwf = flopy.mf6.ModflowGwf(sim, modelname=name, save_flows=True)\n",
    "flopy.mf6.ModflowGwfdis(gwf, nlay=3, nrow=4, ncol=5)\n",
    "flopy.mf6.ModflowGwfic(gwf)\n",
    "flopy.mf6.ModflowGwfnpf(gwf, save_specific_discharge=True)\n",
    "flopy.mf6.ModflowGwfchd(gwf, stress_period_data=[[(0, 0, 0), 1.0], [(2, 3, 4), 0.0]])\n",
    "budget_file = f\"{name}.bud\"\n",
    "head_file = f\"{name}.hds\"\n",
    "flopy.mf6.ModflowGwfoc(\n",
    "    gwf,\n",
    "    budget_filerecord=budget_file,\n",
    "    head_filerecord=head_file,\n",
    "    saverecord=[(\"HEAD\", \"ALL\"), (\"BUDGET\", \"ALL\")],\n",
    ")\n",
    "print(\"Done creating simulation.\")"
   ]
  }
 ],
 "metadata": {
  "kernelspec": {
   "display_name": "backend",
   "language": "python",
   "name": "python3"
  },
  "language_info": {
   "codemirror_mode": {
    "name": "ipython",
    "version": 3
   },
   "file_extension": ".py",
   "mimetype": "text/x-python",
   "name": "python",
   "nbconvert_exporter": "python",
   "pygments_lexer": "ipython3",
   "version": "3.9.18"
  }
 },
 "nbformat": 4,
 "nbformat_minor": 2
}
